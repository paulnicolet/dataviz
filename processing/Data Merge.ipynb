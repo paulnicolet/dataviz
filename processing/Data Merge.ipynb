{
 "cells": [
  {
   "cell_type": "markdown",
   "metadata": {},
   "source": [
    "## DATA MERGE\n",
    "\n",
    "merge between temperatures/gdp/population"
   ]
  },
  {
   "cell_type": "code",
   "execution_count": 23,
   "metadata": {},
   "outputs": [],
   "source": [
    "import numpy as np\n",
    "import pandas as pd\n",
    "import matplotlib.pyplot as plt\n",
    "import folium\n",
    "\n",
    "%matplotlib inline\n",
    "\n",
    "DATA_DIR = \"../data/\"\n",
    "GDP_POP_DIR = DATA_DIR + \"population-gdp-data/\""
   ]
  },
  {
   "cell_type": "code",
   "execution_count": 24,
   "metadata": {},
   "outputs": [],
   "source": [
    "#load gdp\n",
    "GDP_FILENAME = GDP_POP_DIR + \"IHME_GLOBAL_GDP_ESTIMATES_1950_2015.csv\"\n",
    "df_gdp = pd.read_csv(GDP_FILENAME,  encoding = \"ISO-8859-1\")\n",
    "\n",
    "picked_column = ' IHME GDP estimate (2005 international dollars) '\n",
    "\n",
    "df_gdp = df_gdp[[' Country ', ' Year ', picked_column]]\n",
    "df_gdp.rename(index=str, inplace=True, columns={' Country ': 'Country', ' Year ': 'Year', picked_column: 'GDP'})\n",
    "\n",
    "all_country = pd.Series(df_gdp.Country.unique()).str.strip()\n",
    "\n",
    "df_gdp = df_gdp.pivot(values='GDP', index='Country', columns='Year')\n",
    "\n",
    "for y in range(1950, 2016):\n",
    "    df_gdp[y] = df_gdp[y].str.replace(',','').str.strip().astype(float)\n",
    "    \n",
    "df_gdp.index = df_gdp.index.str.strip().str.replace(',','')"
   ]
  },
  {
   "cell_type": "code",
   "execution_count": 25,
   "metadata": {},
   "outputs": [],
   "source": [
    "df_gdp.to_csv(\"gdp.csv\")"
   ]
  },
  {
   "cell_type": "code",
   "execution_count": 26,
   "metadata": {},
   "outputs": [],
   "source": [
    "#load gdp\n",
    "POP_FILENAME = GDP_POP_DIR + \"WPP2017_POP_F01_1_TOTAL_POPULATION_BOTH_SEXES.xlsx\"\n",
    "df_pop = pd.read_excel(POP_FILENAME, skiprows=16).drop(['Index','Variant','Notes','Country code'], axis=1)\n",
    "df_pop.rename(index=str, inplace=True, columns={'Region, subregion, country or area *':'Country'})\n",
    "df_pop.set_index('Country', inplace=True)\n",
    "df_pop.index = df_pop.index.str.strip().str.replace(',','')"
   ]
  },
  {
   "cell_type": "code",
   "execution_count": 27,
   "metadata": {},
   "outputs": [],
   "source": [
    "df_pop.to_csv(\"pop.csv\")\n"
   ]
  },
  {
   "cell_type": "code",
   "execution_count": 6,
   "metadata": {},
   "outputs": [
    {
     "data": {
      "text/plain": [
       "Index([  1950,   1951,   1952,   1953,   1954,   1955,   1956,   1957,   1958,\n",
       "         1959,\n",
       "       ...\n",
       "       '2006', '2007', '2008', '2009', '2010', '2011', '2012', '2013', '2014',\n",
       "       '2015'],\n",
       "      dtype='object', length=132)"
      ]
     },
     "execution_count": 6,
     "metadata": {},
     "output_type": "execute_result"
    }
   ],
   "source": [
    "#df_gdp.merge(df_pop, how='inner', on='Country')\n",
    "result = pd.concat([df_gdp, df_pop], axis=1, join='inner')\n",
    "result.columns"
   ]
  },
  {
   "cell_type": "code",
   "execution_count": 8,
   "metadata": {},
   "outputs": [],
   "source": [
    "gdp_dict = df_gdp.to_dict\n"
   ]
  },
  {
   "cell_type": "code",
   "execution_count": 11,
   "metadata": {},
   "outputs": [
    {
     "ename": "TypeError",
     "evalue": "'method' object is not subscriptable",
     "output_type": "error",
     "traceback": [
      "\u001b[0;31m---------------------------------------------------------------------------\u001b[0m",
      "\u001b[0;31mTypeError\u001b[0m                                 Traceback (most recent call last)",
      "\u001b[0;32m<ipython-input-11-2b93cab2df8f>\u001b[0m in \u001b[0;36m<module>\u001b[0;34m()\u001b[0m\n\u001b[0;32m----> 1\u001b[0;31m \u001b[0mgdp_dict\u001b[0m\u001b[0;34m[\u001b[0m\u001b[0;34m'1950'\u001b[0m\u001b[0;34m]\u001b[0m\u001b[0;34m\u001b[0m\u001b[0m\n\u001b[0m",
      "\u001b[0;31mTypeError\u001b[0m: 'method' object is not subscriptable"
     ]
    }
   ],
   "source": []
  },
  {
   "cell_type": "code",
   "execution_count": 16,
   "metadata": {},
   "outputs": [],
   "source": [
    "gdp_df = pd.read_csv(GDP_POP_DIR+\"gdp.csv\").set_index('Country')\n",
    "pop_df = pd.read_csv(GDP_POP_DIR+\"pop.csv\").set_index('Country')"
   ]
  },
  {
   "cell_type": "code",
   "execution_count": 22,
   "metadata": {},
   "outputs": [
    {
     "data": {
      "text/plain": [
       "      Country                                                    \n",
       "1950  WORLD                                                          2536274.721\n",
       "      More developed regions                                          814865.069\n",
       "      Less developed regions                                         1721409.652\n",
       "      Least developed countries                                       195259.056\n",
       "      Less developed regions, excluding least developed countries    1526150.596\n",
       "      Less developed regions, excluding China                        1157196.536\n",
       "      High-income countries                                           672895.958\n",
       "      Middle-income countries                                        1734480.842\n",
       "      Upper-middle-income countries                                   956203.656\n",
       "      Lower-middle-income countries                                   778277.186\n",
       "      Low-income countries                                            128096.648\n",
       "      Sub-Saharan Africa                                              179621.076\n",
       "      AFRICA                                                          228670.019\n",
       "      Eastern Africa                                                   66758.254\n",
       "      Burundi                                                           2308.920\n",
       "      Comoros                                                            159.459\n",
       "      Djibouti                                                            62.001\n",
       "      Eritrea                                                           1142.148\n",
       "      Ethiopia                                                         18128.034\n",
       "      Kenya                                                             6076.758\n",
       "      Madagascar                                                        4083.554\n",
       "      Malawi                                                            2953.871\n",
       "      Mauritius                                                          493.255\n",
       "      Mayotte                                                             15.141\n",
       "      Mozambique                                                        6152.237\n",
       "      Réunion                                                            248.110\n",
       "      Rwanda                                                            2186.185\n",
       "      Seychelles                                                          36.325\n",
       "      Somalia                                                           2264.082\n",
       "      South Sudan                                                       2582.929\n",
       "                                                                        ...     \n",
       "2015  Saint Pierre and Miquelon                                            6.290\n",
       "      United States of America                                        319929.162\n",
       "      OCEANIA                                                          39542.980\n",
       "      Australia/New Zealand                                            28414.088\n",
       "      Australia                                                        23799.556\n",
       "      New Zealand                                                       4614.532\n",
       "      Melanesia                                                         9933.150\n",
       "      Fiji                                                               892.149\n",
       "      New Caledonia                                                      269.091\n",
       "      Papua New Guinea                                                  7919.825\n",
       "      Solomon Islands                                                    587.482\n",
       "      Vanuatu                                                            264.603\n",
       "      Micronesia                                                         518.995\n",
       "      Guam                                                               161.797\n",
       "      Kiribati                                                           112.407\n",
       "      Marshall Islands                                                    52.994\n",
       "      Micronesia (Fed. States of)                                        104.433\n",
       "      Nauru                                                               11.260\n",
       "      Northern Mariana Islands                                            54.816\n",
       "      Palau                                                               21.288\n",
       "      Polynesia                                                          676.747\n",
       "      American Samoa                                                      55.537\n",
       "      Cook Islands                                                        17.449\n",
       "      French Polynesia                                                   277.690\n",
       "      Niue                                                                 1.629\n",
       "      Samoa                                                              193.759\n",
       "      Tokelau                                                              1.252\n",
       "      Tonga                                                              106.364\n",
       "      Tuvalu                                                              11.001\n",
       "      Wallis and Futuna Islands                                           12.066\n",
       "Length: 18018, dtype: float64"
      ]
     },
     "execution_count": 22,
     "metadata": {},
     "output_type": "execute_result"
    }
   ],
   "source": [
    "pop_df.unstack()"
   ]
  },
  {
   "cell_type": "code",
   "execution_count": null,
   "metadata": {},
   "outputs": [],
   "source": []
  }
 ],
 "metadata": {
  "kernelspec": {
   "display_name": "Python 3",
   "language": "python",
   "name": "python3"
  },
  "language_info": {
   "codemirror_mode": {
    "name": "ipython",
    "version": 3
   },
   "file_extension": ".py",
   "mimetype": "text/x-python",
   "name": "python",
   "nbconvert_exporter": "python",
   "pygments_lexer": "ipython3",
   "version": "3.6.3"
  }
 },
 "nbformat": 4,
 "nbformat_minor": 2
}
