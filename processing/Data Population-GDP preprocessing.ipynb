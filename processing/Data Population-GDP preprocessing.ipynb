{
 "cells": [
  {
   "cell_type": "markdown",
   "metadata": {},
   "source": [
    "## DATA CLEANING\n",
    "\n",
    "Right now, the population and gdp table are full of useless data and complicated to use. We clean them here (especially the awful .xlsx format)."
   ]
  },
  {
   "cell_type": "code",
   "execution_count": 1,
   "metadata": {},
   "outputs": [],
   "source": [
    "import numpy as np\n",
    "import pandas as pd\n",
    "import matplotlib.pyplot as plt\n",
    "import folium\n",
    "\n",
    "%matplotlib inline\n",
    "\n",
    "DATA_DIR = \"../data/\"\n",
    "GDP_POP_DIR = DATA_DIR + \"population-gdp-data/\""
   ]
  },
  {
   "cell_type": "code",
   "execution_count": 2,
   "metadata": {},
   "outputs": [],
   "source": [
    "#load gdp\n",
    "GDP_FILENAME = GDP_POP_DIR + \"IHME_GLOBAL_GDP_ESTIMATES_1950_2015.csv\"\n",
    "df_gdp = pd.read_csv(GDP_FILENAME,  encoding = \"ISO-8859-1\")\n",
    "\n",
    "# full of gdp column, we took the international dollars one\n",
    "picked_column = ' IHME GDP estimate (2005 international dollars) '\n",
    "\n",
    "# we keep only the useful column\n",
    "df_gdp = df_gdp[[' Country ', ' Year ', picked_column]]\n",
    "df_gdp.rename(index=str, inplace=True, columns={' Country ': 'Country', ' Year ': 'Year', picked_column: 'GDP'})\n",
    "\n",
    "all_country = pd.Series(df_gdp.Country.unique()).str.strip()\n",
    "\n",
    "# we pivot to have a matrix with one country on one row, year as the column and the GDP as the value in the cell\n",
    "df_gdp = df_gdp.pivot(values='GDP', index='Country', columns='Year')\n",
    "\n",
    "# be careful, the gdp float value are written with ',' \n",
    "for y in range(1950, 2016):\n",
    "    df_gdp[y] = df_gdp[y].str.replace(',','').str.strip().astype(float)\n",
    "\n",
    "# we correct the name of the country, as they have white space around them\n",
    "df_gdp.index = df_gdp.index.str.strip().str.replace(',','')"
   ]
  },
  {
   "cell_type": "code",
   "execution_count": 3,
   "metadata": {},
   "outputs": [],
   "source": [
    "df_gdp.to_csv(\"../final_data/gdp.csv\")"
   ]
  },
  {
   "cell_type": "code",
   "execution_count": 4,
   "metadata": {},
   "outputs": [],
   "source": [
    "#load pop, we need to drop a bunch of row, because yeah it's a nice xlsx, but an awful data container\n",
    "POP_FILENAME = GDP_POP_DIR + \"WPP2017_POP_F01_1_TOTAL_POPULATION_BOTH_SEXES.xlsx\"\n",
    "df_pop = pd.read_excel(POP_FILENAME, skiprows=16).drop(['Index','Variant','Notes','Country code'], axis=1)\n",
    "\n",
    "# rename the future index and set it\n",
    "df_pop.rename(index=str, inplace=True, columns={'Region, subregion, country or area *':'Country'})\n",
    "df_pop.set_index('Country', inplace=True)\n",
    "# again, little problem in the country name \n",
    "df_pop.index = df_pop.index.str.strip().str.replace(',','')"
   ]
  },
  {
   "cell_type": "code",
   "execution_count": 5,
   "metadata": {},
   "outputs": [],
   "source": [
    "df_pop.to_csv(\"../final_data/pop.csv\")\n"
   ]
  },
  {
   "cell_type": "code",
   "execution_count": null,
   "metadata": {},
   "outputs": [],
   "source": []
  }
 ],
 "metadata": {
  "kernelspec": {
   "display_name": "Python 3",
   "language": "python",
   "name": "python3"
  },
  "language_info": {
   "codemirror_mode": {
    "name": "ipython",
    "version": 3
   },
   "file_extension": ".py",
   "mimetype": "text/x-python",
   "name": "python",
   "nbconvert_exporter": "python",
   "pygments_lexer": "ipython3",
   "version": "3.6.3"
  }
 },
 "nbformat": 4,
 "nbformat_minor": 2
}
