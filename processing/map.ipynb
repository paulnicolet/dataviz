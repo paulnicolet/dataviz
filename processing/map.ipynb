{
 "cells": [
  {
   "cell_type": "markdown",
   "metadata": {},
   "source": [
    "# Map\n",
    "\n",
    "This notebook is dedicated to the data processing required by the map visualisation. "
   ]
  },
  {
   "cell_type": "code",
   "execution_count": 1,
   "metadata": {},
   "outputs": [],
   "source": [
    "import numpy as np\n",
    "import pandas as pd\n",
    "import matplotlib.pyplot as plt\n",
    "import json\n",
    "%matplotlib inline"
   ]
  },
  {
   "cell_type": "code",
   "execution_count": 2,
   "metadata": {},
   "outputs": [],
   "source": [
    "BASE_DIR = '../data/climate-change-earth-surface-temperature-data/'"
   ]
  },
  {
   "cell_type": "markdown",
   "metadata": {},
   "source": [
    "## Extracting data for a month\n",
    "\n",
    "We first extract data for a given month in order to facilitate early stages of the map design."
   ]
  },
  {
   "cell_type": "code",
   "execution_count": 3,
   "metadata": {},
   "outputs": [],
   "source": [
    "# Load data\n",
    "FILENAME = 'GlobalLandTemperaturesByCity.csv'\n",
    "df = pd.read_csv(BASE_DIR + FILENAME)"
   ]
  },
  {
   "cell_type": "markdown",
   "metadata": {},
   "source": [
    "We extract data for a given month:"
   ]
  },
  {
   "cell_type": "code",
   "execution_count": 6,
   "metadata": {},
   "outputs": [
    {
     "data": {
      "text/html": [
       "<div>\n",
       "<style scoped>\n",
       "    .dataframe tbody tr th:only-of-type {\n",
       "        vertical-align: middle;\n",
       "    }\n",
       "\n",
       "    .dataframe tbody tr th {\n",
       "        vertical-align: top;\n",
       "    }\n",
       "\n",
       "    .dataframe thead th {\n",
       "        text-align: right;\n",
       "    }\n",
       "</style>\n",
       "<table border=\"1\" class=\"dataframe\">\n",
       "  <thead>\n",
       "    <tr style=\"text-align: right;\">\n",
       "      <th></th>\n",
       "      <th>dt</th>\n",
       "      <th>AverageTemperature</th>\n",
       "      <th>AverageTemperatureUncertainty</th>\n",
       "      <th>City</th>\n",
       "      <th>Country</th>\n",
       "      <th>Latitude</th>\n",
       "      <th>Longitude</th>\n",
       "    </tr>\n",
       "  </thead>\n",
       "  <tbody>\n",
       "    <tr>\n",
       "      <th>0</th>\n",
       "      <td>1900-01-01</td>\n",
       "      <td>-0.989</td>\n",
       "      <td>0.588</td>\n",
       "      <td>Århus</td>\n",
       "      <td>Denmark</td>\n",
       "      <td>57.05N</td>\n",
       "      <td>10.33E</td>\n",
       "    </tr>\n",
       "    <tr>\n",
       "      <th>1</th>\n",
       "      <td>1900-01-01</td>\n",
       "      <td>5.763</td>\n",
       "      <td>1.008</td>\n",
       "      <td>Çorlu</td>\n",
       "      <td>Turkey</td>\n",
       "      <td>40.99N</td>\n",
       "      <td>27.69E</td>\n",
       "    </tr>\n",
       "    <tr>\n",
       "      <th>2</th>\n",
       "      <td>1900-01-01</td>\n",
       "      <td>0.947</td>\n",
       "      <td>0.771</td>\n",
       "      <td>Çorum</td>\n",
       "      <td>Turkey</td>\n",
       "      <td>40.99N</td>\n",
       "      <td>34.08E</td>\n",
       "    </tr>\n",
       "    <tr>\n",
       "      <th>3</th>\n",
       "      <td>1900-01-01</td>\n",
       "      <td>-25.819</td>\n",
       "      <td>1.058</td>\n",
       "      <td>Öskemen</td>\n",
       "      <td>Kazakhstan</td>\n",
       "      <td>50.63N</td>\n",
       "      <td>82.39E</td>\n",
       "    </tr>\n",
       "    <tr>\n",
       "      <th>4</th>\n",
       "      <td>1900-01-01</td>\n",
       "      <td>-20.970</td>\n",
       "      <td>1.505</td>\n",
       "      <td>Ürümqi</td>\n",
       "      <td>China</td>\n",
       "      <td>44.20N</td>\n",
       "      <td>87.20E</td>\n",
       "    </tr>\n",
       "  </tbody>\n",
       "</table>\n",
       "</div>"
      ],
      "text/plain": [
       "           dt  AverageTemperature  AverageTemperatureUncertainty     City  \\\n",
       "0  1900-01-01              -0.989                          0.588    Århus   \n",
       "1  1900-01-01               5.763                          1.008    Çorlu   \n",
       "2  1900-01-01               0.947                          0.771    Çorum   \n",
       "3  1900-01-01             -25.819                          1.058  Öskemen   \n",
       "4  1900-01-01             -20.970                          1.505   Ürümqi   \n",
       "\n",
       "      Country Latitude Longitude  \n",
       "0     Denmark   57.05N    10.33E  \n",
       "1      Turkey   40.99N    27.69E  \n",
       "2      Turkey   40.99N    34.08E  \n",
       "3  Kazakhstan   50.63N    82.39E  \n",
       "4       China   44.20N    87.20E  "
      ]
     },
     "execution_count": 6,
     "metadata": {},
     "output_type": "execute_result"
    }
   ],
   "source": [
    "# Pick a month\n",
    "DATE = '1900-01-01'\n",
    "df_m = df[df.dt == DATE].reset_index(drop=True)\n",
    "df_m.head()"
   ]
  },
  {
   "cell_type": "markdown",
   "metadata": {},
   "source": [
    "Coordinates need to be converted to the regular format:"
   ]
  },
  {
   "cell_type": "code",
   "execution_count": 4,
   "metadata": {},
   "outputs": [],
   "source": [
    "def map_coordinate(coo):\n",
    "    \"\"\"\n",
    "    Correct coordinate format\n",
    "    \"\"\"\n",
    "    if coo[-1] == 'S' or coo[-1] == 'W':\n",
    "        coo = '-' + coo\n",
    "    \n",
    "    return coo[:-1]"
   ]
  },
  {
   "cell_type": "code",
   "execution_count": 6,
   "metadata": {
    "collapsed": true
   },
   "outputs": [],
   "source": [
    "df_m.Latitude = df_m.Latitude.map(map_coordinate)\n",
    "df_m.Longitude = df_m.Longitude.map(map_coordinate)"
   ]
  },
  {
   "cell_type": "markdown",
   "metadata": {},
   "source": [
    "Finally, we export the `json` data:"
   ]
  },
  {
   "cell_type": "code",
   "execution_count": 7,
   "metadata": {
    "collapsed": true
   },
   "outputs": [],
   "source": [
    "df_m = df_m.drop(['dt', 'AverageTemperatureUncertainty'], axis=1)"
   ]
  },
  {
   "cell_type": "code",
   "execution_count": 8,
   "metadata": {
    "collapsed": true
   },
   "outputs": [],
   "source": [
    "records = [{DATE: df_m.to_dict(orient='records')}]"
   ]
  },
  {
   "cell_type": "code",
   "execution_count": 9,
   "metadata": {
    "collapsed": true
   },
   "outputs": [],
   "source": [
    "OUTNAME = 'temp_city_{}_.json'.format(DATE)\n",
    "OUTPATH = '../app/data/'\n",
    "with open(OUTPATH + OUTNAME, 'w') as f:\n",
    "    json.dump(records, f, ensure_ascii=False)"
   ]
  },
  {
   "cell_type": "markdown",
   "metadata": {},
   "source": [
    "## Extracting all years temperatures\n",
    "\n",
    "We now generate the file containing the temperature for all years, the January 1st."
   ]
  },
  {
   "cell_type": "code",
   "execution_count": 5,
   "metadata": {},
   "outputs": [],
   "source": [
    "# Convert to datetime\n",
    "df.dt = pd.to_datetime(df.dt)"
   ]
  },
  {
   "cell_type": "code",
   "execution_count": 6,
   "metadata": {},
   "outputs": [
    {
     "data": {
      "text/plain": [
       "Index(['dt', 'AverageTemperature', 'AverageTemperatureUncertainty', 'City',\n",
       "       'Country', 'Latitude', 'Longitude'],\n",
       "      dtype='object')"
      ]
     },
     "execution_count": 6,
     "metadata": {},
     "output_type": "execute_result"
    }
   ],
   "source": [
    "df.columns"
   ]
  },
  {
   "cell_type": "code",
   "execution_count": 7,
   "metadata": {},
   "outputs": [],
   "source": [
    "\n",
    "remain = df[df.dt.dt.year >= 1850].copy()\n",
    "\n",
    "remain.Latitude = remain.Latitude.map(map_coordinate).astype(float)\n",
    "remain.Longitude = remain.Longitude.map(map_coordinate).astype(float)\n",
    "remain['dt'] = df.dt.dt.year.copy()\n",
    "\n",
    "remain.set_index(['City'], inplace=True)\n",
    "\n",
    "# remove useless col\n",
    "remain.drop(['AverageTemperatureUncertainty','Country'], axis=1, inplace=True)\n",
    "\n",
    "remain = remain.groupby(['City', 'dt']).mean().dropna().reset_index()\n"
   ]
  },
  {
   "cell_type": "code",
   "execution_count": 8,
   "metadata": {},
   "outputs": [],
   "source": [
    "# Get min and max\n",
    "min_temp = remain['AverageTemperature'].min()\n",
    "max_temp = remain['AverageTemperature'].max()"
   ]
  },
  {
   "cell_type": "code",
   "execution_count": 9,
   "metadata": {},
   "outputs": [],
   "source": [
    "# Generate a Serie : year -> list(dict{temp, city, ...})\n",
    "by_year = remain.groupby('dt').apply(lambda x: x.to_dict(orient='records'))\n",
    "\n",
    "# Generate data set with min, max and content\n",
    "dataset = {\n",
    "    'min': min_temp, \n",
    "    'max': max_temp,\n",
    "    'data': by_year.to_dict()\n",
    "}"
   ]
  },
  {
   "cell_type": "code",
   "execution_count": 10,
   "metadata": {},
   "outputs": [],
   "source": [
    "OUTNAME = 'temp_city_all.json'\n",
    "OUTPATH = '../app/data/'\n",
    "with open(OUTPATH + OUTNAME, 'w') as f:\n",
    "    json.dump(dataset, f, ensure_ascii=False)"
   ]
  },
  {
   "cell_type": "code",
   "execution_count": null,
   "metadata": {},
   "outputs": [],
   "source": []
  }
 ],
 "metadata": {
  "kernelspec": {
   "display_name": "Python 3",
   "language": "python",
   "name": "python3"
  },
  "language_info": {
   "codemirror_mode": {
    "name": "ipython",
    "version": 3
   },
   "file_extension": ".py",
   "mimetype": "text/x-python",
   "name": "python",
   "nbconvert_exporter": "python",
   "pygments_lexer": "ipython3",
   "version": "3.6.3"
  }
 },
 "nbformat": 4,
 "nbformat_minor": 2
}
